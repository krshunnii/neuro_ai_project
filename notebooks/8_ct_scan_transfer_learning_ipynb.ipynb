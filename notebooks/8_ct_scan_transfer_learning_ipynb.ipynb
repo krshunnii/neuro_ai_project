{
  "nbformat": 4,
  "nbformat_minor": 0,
  "metadata": {
    "colab": {
      "provenance": []
    },
    "kernelspec": {
      "name": "python3",
      "display_name": "Python 3"
    },
    "language_info": {
      "name": "python"
    }
  },
  "cells": [
    {
      "cell_type": "code",
      "execution_count": 4,
      "metadata": {
        "id": "Ap9LlHbsptT7"
      },
      "outputs": [],
      "source": [
        "import tensorflow as tf\n",
        "from tensorflow.keras import layers, models\n",
        "import matplotlib.pyplot as plt\n",
        "import os\n"
      ]
    },
    {
      "cell_type": "code",
      "source": [
        "import zipfile\n",
        "import os\n",
        "\n",
        "# Define the path to the uploaded zip file\n",
        "zip_path = '/content/archive (1).zip'\n",
        "\n",
        "# Copy the uploaded file from the working directory (if needed)\n",
        "!cp \"/mnt/data/archive (1).zip\" \"$zip_path\"\n",
        "\n",
        "# Create a directory to extract the contents\n",
        "extract_dir = '/content/extracted_data'\n",
        "os.makedirs(extract_dir, exist_ok=True)\n",
        "\n",
        "# Extract the zip file\n",
        "with zipfile.ZipFile(zip_path, 'r') as zip_ref:\n",
        "    zip_ref.extractall(extract_dir)\n",
        "\n",
        "print(\"Extraction complete. Files are in:\", extract_dir)\n"
      ],
      "metadata": {
        "colab": {
          "base_uri": "https://localhost:8080/"
        },
        "id": "Ee3ZDSnEqFDW",
        "outputId": "c2f4b118-2a52-41d4-cd8e-b3f004c42cd5"
      },
      "execution_count": 1,
      "outputs": [
        {
          "output_type": "stream",
          "name": "stdout",
          "text": [
            "cp: cannot stat '/mnt/data/archive (1).zip': No such file or directory\n",
            "Extraction complete. Files are in: /content/extracted_data\n"
          ]
        }
      ]
    },
    {
      "cell_type": "code",
      "source": [
        "import os\n",
        "\n",
        "# Explore the directory to find the actual path\n",
        "for root, dirs, files in os.walk(\"/content/extracted_data\"):\n",
        "    print(root)\n"
      ],
      "metadata": {
        "colab": {
          "base_uri": "https://localhost:8080/"
        },
        "id": "L4jqy_YtqNzY",
        "outputId": "ba41a3d6-dd1b-41bc-ad80-31d36fd799e7"
      },
      "execution_count": 2,
      "outputs": [
        {
          "output_type": "stream",
          "name": "stdout",
          "text": [
            "/content/extracted_data\n",
            "/content/extracted_data/Brain_Stroke_CT-SCAN_image\n",
            "/content/extracted_data/Brain_Stroke_CT-SCAN_image/Train\n",
            "/content/extracted_data/Brain_Stroke_CT-SCAN_image/Train/Normal\n",
            "/content/extracted_data/Brain_Stroke_CT-SCAN_image/Train/Stroke\n",
            "/content/extracted_data/Brain_Stroke_CT-SCAN_image/Validation\n",
            "/content/extracted_data/Brain_Stroke_CT-SCAN_image/Validation/Normal\n",
            "/content/extracted_data/Brain_Stroke_CT-SCAN_image/Validation/Stroke\n",
            "/content/extracted_data/Brain_Stroke_CT-SCAN_image/Test\n",
            "/content/extracted_data/Brain_Stroke_CT-SCAN_image/Test/Normal\n",
            "/content/extracted_data/Brain_Stroke_CT-SCAN_image/Test/Stroke\n"
          ]
        }
      ]
    },
    {
      "cell_type": "code",
      "source": [
        "base_dir = \"/content/extracted_data/Brain_Stroke_CT-SCAN_image\"\n",
        "train_dir = os.path.join(base_dir, \"Train\")\n",
        "val_dir = os.path.join(base_dir, \"Validation\")\n",
        "test_dir = os.path.join(base_dir, \"Test\")\n",
        "\n",
        "IMG_SIZE = (224, 224)\n",
        "BATCH_SIZE = 32\n",
        "\n",
        "train_ds = tf.keras.preprocessing.image_dataset_from_directory(\n",
        "    train_dir, seed=42, image_size=IMG_SIZE, batch_size=BATCH_SIZE, label_mode='binary'\n",
        ")\n",
        "val_ds = tf.keras.preprocessing.image_dataset_from_directory(\n",
        "    val_dir, seed=42, image_size=IMG_SIZE, batch_size=BATCH_SIZE, label_mode='binary'\n",
        ")\n",
        "test_ds = tf.keras.preprocessing.image_dataset_from_directory(\n",
        "    test_dir, seed=42, image_size=IMG_SIZE, batch_size=BATCH_SIZE, label_mode='binary'\n",
        ")\n"
      ],
      "metadata": {
        "colab": {
          "base_uri": "https://localhost:8080/"
        },
        "id": "I09BzOZwqlQX",
        "outputId": "5f58b462-33c0-4e3b-dc46-b03169c4f396"
      },
      "execution_count": 5,
      "outputs": [
        {
          "output_type": "stream",
          "name": "stdout",
          "text": [
            "Found 1843 files belonging to 2 classes.\n",
            "Found 235 files belonging to 2 classes.\n",
            "Found 437 files belonging to 2 classes.\n"
          ]
        }
      ]
    },
    {
      "cell_type": "code",
      "source": [
        "normalization_layer = tf.keras.layers.Rescaling(1./255)\n",
        "train_ds = train_ds.map(lambda x, y: (normalization_layer(x), y)).cache().shuffle(1000).prefetch(tf.data.AUTOTUNE)\n",
        "val_ds = val_ds.map(lambda x, y: (normalization_layer(x), y)).cache().prefetch(tf.data.AUTOTUNE)\n",
        "test_ds = test_ds.map(lambda x, y: (normalization_layer(x), y)).cache().prefetch(tf.data.AUTOTUNE)\n"
      ],
      "metadata": {
        "id": "y0J5yAZfqtBA"
      },
      "execution_count": 6,
      "outputs": []
    },
    {
      "cell_type": "code",
      "source": [
        "base_model = tf.keras.applications.MobileNetV2(input_shape=IMG_SIZE + (3,),\n",
        "                                               include_top=False,\n",
        "                                               weights='imagenet')\n",
        "base_model.trainable = False  # Freeze base\n"
      ],
      "metadata": {
        "colab": {
          "base_uri": "https://localhost:8080/"
        },
        "id": "m7UrrLN1qvLy",
        "outputId": "b2f40571-820a-412a-a013-8a48a5e8c998"
      },
      "execution_count": 7,
      "outputs": [
        {
          "output_type": "stream",
          "name": "stdout",
          "text": [
            "Downloading data from https://storage.googleapis.com/tensorflow/keras-applications/mobilenet_v2/mobilenet_v2_weights_tf_dim_ordering_tf_kernels_1.0_224_no_top.h5\n",
            "\u001b[1m9406464/9406464\u001b[0m \u001b[32m━━━━━━━━━━━━━━━━━━━━\u001b[0m\u001b[37m\u001b[0m \u001b[1m0s\u001b[0m 0us/step\n"
          ]
        }
      ]
    },
    {
      "cell_type": "code",
      "source": [
        "model = tf.keras.Sequential([\n",
        "    base_model,\n",
        "    layers.GlobalAveragePooling2D(),\n",
        "    layers.Dropout(0.2),\n",
        "    layers.Dense(1, activation='sigmoid')  # Binary classification\n",
        "])\n"
      ],
      "metadata": {
        "id": "bKhkFYB-qxeZ"
      },
      "execution_count": 8,
      "outputs": []
    },
    {
      "cell_type": "code",
      "source": [
        "model.compile(optimizer='adam',\n",
        "              loss='binary_crossentropy',\n",
        "              metrics=['accuracy'])\n",
        "\n",
        "history = model.fit(train_ds, validation_data=val_ds, epochs=10)\n"
      ],
      "metadata": {
        "colab": {
          "base_uri": "https://localhost:8080/"
        },
        "id": "UiDuQ4iyq1w6",
        "outputId": "dec8180a-b536-4c7b-e662-9610409b1135"
      },
      "execution_count": 9,
      "outputs": [
        {
          "output_type": "stream",
          "name": "stdout",
          "text": [
            "Epoch 1/10\n",
            "\u001b[1m58/58\u001b[0m \u001b[32m━━━━━━━━━━━━━━━━━━━━\u001b[0m\u001b[37m\u001b[0m \u001b[1m99s\u001b[0m 2s/step - accuracy: 0.5638 - loss: 0.7322 - val_accuracy: 0.7021 - val_loss: 0.5856\n",
            "Epoch 2/10\n",
            "\u001b[1m58/58\u001b[0m \u001b[32m━━━━━━━━━━━━━━━━━━━━\u001b[0m\u001b[37m\u001b[0m \u001b[1m99s\u001b[0m 2s/step - accuracy: 0.6229 - loss: 0.6413 - val_accuracy: 0.7362 - val_loss: 0.5532\n",
            "Epoch 3/10\n",
            "\u001b[1m58/58\u001b[0m \u001b[32m━━━━━━━━━━━━━━━━━━━━\u001b[0m\u001b[37m\u001b[0m \u001b[1m90s\u001b[0m 2s/step - accuracy: 0.6557 - loss: 0.6066 - val_accuracy: 0.7404 - val_loss: 0.5642\n",
            "Epoch 4/10\n",
            "\u001b[1m58/58\u001b[0m \u001b[32m━━━━━━━━━━━━━━━━━━━━\u001b[0m\u001b[37m\u001b[0m \u001b[1m90s\u001b[0m 2s/step - accuracy: 0.6751 - loss: 0.5845 - val_accuracy: 0.7787 - val_loss: 0.5379\n",
            "Epoch 5/10\n",
            "\u001b[1m58/58\u001b[0m \u001b[32m━━━━━━━━━━━━━━━━━━━━\u001b[0m\u001b[37m\u001b[0m \u001b[1m88s\u001b[0m 2s/step - accuracy: 0.7159 - loss: 0.5530 - val_accuracy: 0.7872 - val_loss: 0.4972\n",
            "Epoch 6/10\n",
            "\u001b[1m58/58\u001b[0m \u001b[32m━━━━━━━━━━━━━━━━━━━━\u001b[0m\u001b[37m\u001b[0m \u001b[1m89s\u001b[0m 2s/step - accuracy: 0.7048 - loss: 0.5659 - val_accuracy: 0.7872 - val_loss: 0.4970\n",
            "Epoch 7/10\n",
            "\u001b[1m58/58\u001b[0m \u001b[32m━━━━━━━━━━━━━━━━━━━━\u001b[0m\u001b[37m\u001b[0m \u001b[1m89s\u001b[0m 2s/step - accuracy: 0.7313 - loss: 0.5135 - val_accuracy: 0.8085 - val_loss: 0.4836\n",
            "Epoch 8/10\n",
            "\u001b[1m58/58\u001b[0m \u001b[32m━━━━━━━━━━━━━━━━━━━━\u001b[0m\u001b[37m\u001b[0m \u001b[1m153s\u001b[0m 2s/step - accuracy: 0.7533 - loss: 0.5123 - val_accuracy: 0.8298 - val_loss: 0.4777\n",
            "Epoch 9/10\n",
            "\u001b[1m58/58\u001b[0m \u001b[32m━━━━━━━━━━━━━━━━━━━━\u001b[0m\u001b[37m\u001b[0m \u001b[1m143s\u001b[0m 2s/step - accuracy: 0.7595 - loss: 0.4954 - val_accuracy: 0.8170 - val_loss: 0.4747\n",
            "Epoch 10/10\n",
            "\u001b[1m58/58\u001b[0m \u001b[32m━━━━━━━━━━━━━━━━━━━━\u001b[0m\u001b[37m\u001b[0m \u001b[1m130s\u001b[0m 2s/step - accuracy: 0.7366 - loss: 0.5183 - val_accuracy: 0.8298 - val_loss: 0.4563\n"
          ]
        }
      ]
    },
    {
      "cell_type": "code",
      "source": [
        "test_loss, test_acc = model.evaluate(test_ds)\n",
        "print(f\"Test accuracy: {test_acc:.4f}\")\n"
      ],
      "metadata": {
        "colab": {
          "base_uri": "https://localhost:8080/"
        },
        "id": "kT6Zeqrpu7na",
        "outputId": "1a3eeac3-1f41-47f6-ec34-41ccfa4967fd"
      },
      "execution_count": 10,
      "outputs": [
        {
          "output_type": "stream",
          "name": "stdout",
          "text": [
            "\u001b[1m14/14\u001b[0m \u001b[32m━━━━━━━━━━━━━━━━━━━━\u001b[0m\u001b[37m\u001b[0m \u001b[1m22s\u001b[0m 1s/step - accuracy: 0.7388 - loss: 0.4895\n",
            "Test accuracy: 0.7323\n"
          ]
        }
      ]
    },
    {
      "cell_type": "code",
      "source": [
        "plt.plot(history.history['accuracy'], label='Train Accuracy')\n",
        "plt.plot(history.history['val_accuracy'], label='Val Accuracy')\n",
        "plt.xlabel(\"Epochs\")\n",
        "plt.ylabel(\"Accuracy\")\n",
        "plt.legend()\n",
        "plt.title(\"Accuracy Curve\")\n",
        "plt.show()\n"
      ],
      "metadata": {
        "colab": {
          "base_uri": "https://localhost:8080/",
          "height": 472
        },
        "id": "4ku3wOT5u_eS",
        "outputId": "e817ece4-39b8-437c-c21e-8998cde6ad0e"
      },
      "execution_count": 11,
      "outputs": [
        {
          "output_type": "display_data",
          "data": {
            "text/plain": [
              "<Figure size 640x480 with 1 Axes>"
            ],
            "image/png": "[encoded data removed]"
          },
          "metadata": {}
        }
      ]
    },
    {
      "cell_type": "code",
      "source": [
        "model.save(\"ct_scan_mobilenet_model.h5\")\n"
      ],
      "metadata": {
        "colab": {
          "base_uri": "https://localhost:8080/"
        },
        "id": "iYN72XPcvL2n",
        "outputId": "9322326c-a16e-4797-b383-fc1b0cdb367c"
      },
      "execution_count": 12,
      "outputs": [
        {
          "output_type": "stream",
          "name": "stderr",
          "text": [
            "WARNING:absl:You are saving your model as an HDF5 file via `model.save()` or `keras.saving.save_model(model)`. This file format is considered legacy. We recommend using instead the native Keras format, e.g. `model.save('my_model.keras')` or `keras.saving.save_model(model, 'my_model.keras')`. \n"
          ]
        }
      ]
    },
    {
      "cell_type": "markdown",
      "source": [
        "## 🧠 Transfer Learning on CT Scan Images - Summary\n",
        "\n",
        "This notebook applied **transfer learning** using a pretrained convolutional neural network to classify CT scan images as either **stroke** or **normal**.\n",
        "\n",
        "📦 **Dataset Structure**:  \n",
        "The dataset was divided into:\n",
        "- **Training Set**: Used to fine-tune the model\n",
        "- **Validation Set**: Used to monitor generalization\n",
        "- **Test Set**: Used for final performance evaluation\n",
        "\n",
        "⚙️ **Configuration**\n",
        "- **Model Type**: Transfer Learning (e.g., MobileNetV2 / EfficientNet)\n",
        "- **Image Size**: 224×224\n",
        "- **Epochs**: 10\n",
        "- **Batch Size**: 32\n",
        "- **Augmentation**: Optional (can improve further)\n",
        "\n",
        "📈 **Performance**\n",
        "- **Test Accuracy**: **0.7323**\n",
        "- **Validation Accuracy (Final Epoch)**: **~0.83**\n",
        "- **Training Accuracy (Final Epoch)**: **~0.74**\n",
        "- **Loss**: Decreasing and stable\n",
        "\n",
        "📊 **Learning Curve**:  \n",
        "Validation accuracy consistently stayed above training accuracy, indicating **good generalization** and **low overfitting**.\n",
        "\n",
        "✅ **Outcome**\n",
        "- Demonstrated effectiveness of transfer learning on small medical image datasets.\n",
        "- Model ready to be tested in federated environments or compared with models trained from scratch.\n",
        "- Saved as `ct_scan_transfer_model.h5` for deployment or further experimentation.\n"
      ],
      "metadata": {
        "id": "nO0SyGL2wHpI"
      }
    }
  ]
}