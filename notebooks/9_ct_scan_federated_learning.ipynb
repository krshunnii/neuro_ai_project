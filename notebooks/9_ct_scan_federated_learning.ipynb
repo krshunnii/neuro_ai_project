{
  "nbformat": 4,
  "nbformat_minor": 0,
  "metadata": {
    "colab": {
      "provenance": []
    },
    "kernelspec": {
      "name": "python3",
      "display_name": "Python 3"
    },
    "language_info": {
      "name": "python"
    }
  },
  "cells": [
    {
      "cell_type": "code",
      "source": [
        "import zipfile\n",
        "import os\n",
        "\n",
        "# Define the path to the uploaded zip file\n",
        "zip_path = '/content/archive (1).zip'\n",
        "\n",
        "# Copy the uploaded file from the working directory (if needed)\n",
        "!cp \"/mnt/data/archive (1).zip\" \"$zip_path\"\n",
        "\n",
        "# Create a directory to extract the contents\n",
        "extract_dir = '/content/extracted_data'\n",
        "os.makedirs(extract_dir, exist_ok=True)\n",
        "\n",
        "# Extract the zip file\n",
        "with zipfile.ZipFile(zip_path, 'r') as zip_ref:\n",
        "    zip_ref.extractall(extract_dir)\n",
        "\n",
        "print(\"Extraction complete. Files are in:\", extract_dir)\n"
      ],
      "metadata": {
        "colab": {
          "base_uri": "https://localhost:8080/"
        },
        "id": "yjQp4VJiw1Ua",
        "outputId": "d3e6b217-d204-47fd-d8d9-ca26587c6bf4"
      },
      "execution_count": 3,
      "outputs": [
        {
          "output_type": "stream",
          "name": "stdout",
          "text": [
            "cp: cannot stat '/mnt/data/archive (1).zip': No such file or directory\n",
            "Extraction complete. Files are in: /content/extracted_data\n"
          ]
        }
      ]
    },
    {
      "cell_type": "code",
      "source": [
        "import os\n",
        "\n",
        "# Explore the directory to find the actual path\n",
        "for root, dirs, files in os.walk(\"/content/extracted_data\"):\n",
        "    print(root)\n"
      ],
      "metadata": {
        "colab": {
          "base_uri": "https://localhost:8080/"
        },
        "id": "daI8ZqvkxGRm",
        "outputId": "8a204578-f9ca-41c5-9d0c-910baaf4f4a1"
      },
      "execution_count": 4,
      "outputs": [
        {
          "output_type": "stream",
          "name": "stdout",
          "text": [
            "/content/extracted_data\n",
            "/content/extracted_data/Brain_Stroke_CT-SCAN_image\n",
            "/content/extracted_data/Brain_Stroke_CT-SCAN_image/Test\n",
            "/content/extracted_data/Brain_Stroke_CT-SCAN_image/Test/Stroke\n",
            "/content/extracted_data/Brain_Stroke_CT-SCAN_image/Test/Normal\n",
            "/content/extracted_data/Brain_Stroke_CT-SCAN_image/Validation\n",
            "/content/extracted_data/Brain_Stroke_CT-SCAN_image/Validation/Stroke\n",
            "/content/extracted_data/Brain_Stroke_CT-SCAN_image/Validation/Normal\n",
            "/content/extracted_data/Brain_Stroke_CT-SCAN_image/Train\n",
            "/content/extracted_data/Brain_Stroke_CT-SCAN_image/Train/Stroke\n",
            "/content/extracted_data/Brain_Stroke_CT-SCAN_image/Train/Normal\n"
          ]
        }
      ]
    },
    {
      "cell_type": "code",
      "source": [
        "!pip install flwr[simulation]\n"
      ],
      "metadata": {
        "colab": {
          "base_uri": "https://localhost:8080/"
        },
        "id": "mcjGIfIDyuOu",
        "outputId": "f652bf86-083d-4d34-dfef-4110c7b24c74"
      },
      "execution_count": 5,
      "outputs": [
        {
          "output_type": "stream",
          "name": "stdout",
          "text": [
            "Collecting flwr[simulation]\n",
            "  Downloading flwr-1.18.0-py3-none-any.whl.metadata (15 kB)\n",
            "Collecting cryptography<45.0.0,>=44.0.1 (from flwr[simulation])\n",
            "  Downloading cryptography-44.0.3-cp39-abi3-manylinux_2_34_x86_64.whl.metadata (5.7 kB)\n",
            "Requirement already satisfied: grpcio!=1.65.0,<2.0.0,>=1.62.3 in /usr/local/lib/python3.11/dist-packages (from flwr[simulation]) (1.71.0)\n",
            "Collecting iterators<0.0.3,>=0.0.2 (from flwr[simulation])\n",
            "  Downloading iterators-0.0.2-py3-none-any.whl.metadata (2.5 kB)\n",
            "Requirement already satisfied: numpy<3.0.0,>=1.26.0 in /usr/local/lib/python3.11/dist-packages (from flwr[simulation]) (2.0.2)\n",
            "Collecting pathspec<0.13.0,>=0.12.1 (from flwr[simulation])\n",
            "  Downloading pathspec-0.12.1-py3-none-any.whl.metadata (21 kB)\n",
            "Collecting protobuf<5.0.0,>=4.21.6 (from flwr[simulation])\n",
            "  Downloading protobuf-4.25.7-cp37-abi3-manylinux2014_x86_64.whl.metadata (541 bytes)\n",
            "Collecting pycryptodome<4.0.0,>=3.18.0 (from flwr[simulation])\n",
            "  Downloading pycryptodome-3.22.0-cp37-abi3-manylinux_2_17_x86_64.manylinux2014_x86_64.whl.metadata (3.4 kB)\n",
            "Requirement already satisfied: pyyaml<7.0.0,>=6.0.2 in /usr/local/lib/python3.11/dist-packages (from flwr[simulation]) (6.0.2)\n",
            "Collecting ray==2.31.0 (from flwr[simulation])\n",
            "  Downloading ray-2.31.0-cp311-cp311-manylinux2014_x86_64.whl.metadata (13 kB)\n",
            "Requirement already satisfied: requests<3.0.0,>=2.31.0 in /usr/local/lib/python3.11/dist-packages (from flwr[simulation]) (2.32.3)\n",
            "Requirement already satisfied: rich<14.0.0,>=13.5.0 in /usr/local/lib/python3.11/dist-packages (from flwr[simulation]) (13.9.4)\n",
            "Collecting tomli<3.0.0,>=2.0.1 (from flwr[simulation])\n",
            "  Downloading tomli-2.2.1-cp311-cp311-manylinux_2_17_x86_64.manylinux2014_x86_64.whl.metadata (11 kB)\n",
            "Collecting tomli-w<2.0.0,>=1.0.0 (from flwr[simulation])\n",
            "  Downloading tomli_w-1.2.0-py3-none-any.whl.metadata (5.7 kB)\n",
            "Collecting typer<0.13.0,>=0.12.5 (from flwr[simulation])\n",
            "  Downloading typer-0.12.5-py3-none-any.whl.metadata (15 kB)\n",
            "Requirement already satisfied: click>=7.0 in /usr/local/lib/python3.11/dist-packages (from ray==2.31.0->flwr[simulation]) (8.1.8)\n",
            "Requirement already satisfied: filelock in /usr/local/lib/python3.11/dist-packages (from ray==2.31.0->flwr[simulation]) (3.18.0)\n",
            "Requirement already satisfied: jsonschema in /usr/local/lib/python3.11/dist-packages (from ray==2.31.0->flwr[simulation]) (4.23.0)\n",
            "Requirement already satisfied: msgpack<2.0.0,>=1.0.0 in /usr/local/lib/python3.11/dist-packages (from ray==2.31.0->flwr[simulation]) (1.1.0)\n",
            "Requirement already satisfied: packaging in /usr/local/lib/python3.11/dist-packages (from ray==2.31.0->flwr[simulation]) (24.2)\n",
            "Requirement already satisfied: aiosignal in /usr/local/lib/python3.11/dist-packages (from ray==2.31.0->flwr[simulation]) (1.3.2)\n",
            "Requirement already satisfied: frozenlist in /usr/local/lib/python3.11/dist-packages (from ray==2.31.0->flwr[simulation]) (1.6.0)\n",
            "Requirement already satisfied: cffi>=1.12 in /usr/local/lib/python3.11/dist-packages (from cryptography<45.0.0,>=44.0.1->flwr[simulation]) (1.17.1)\n",
            "Requirement already satisfied: charset-normalizer<4,>=2 in /usr/local/lib/python3.11/dist-packages (from requests<3.0.0,>=2.31.0->flwr[simulation]) (3.4.2)\n",
            "Requirement already satisfied: idna<4,>=2.5 in /usr/local/lib/python3.11/dist-packages (from requests<3.0.0,>=2.31.0->flwr[simulation]) (3.10)\n",
            "Requirement already satisfied: urllib3<3,>=1.21.1 in /usr/local/lib/python3.11/dist-packages (from requests<3.0.0,>=2.31.0->flwr[simulation]) (2.4.0)\n",
            "Requirement already satisfied: certifi>=2017.4.17 in /usr/local/lib/python3.11/dist-packages (from requests<3.0.0,>=2.31.0->flwr[simulation]) (2025.4.26)\n",
            "Requirement already satisfied: markdown-it-py>=2.2.0 in /usr/local/lib/python3.11/dist-packages (from rich<14.0.0,>=13.5.0->flwr[simulation]) (3.0.0)\n",
            "Requirement already satisfied: pygments<3.0.0,>=2.13.0 in /usr/local/lib/python3.11/dist-packages (from rich<14.0.0,>=13.5.0->flwr[simulation]) (2.19.1)\n",
            "Requirement already satisfied: typing-extensions>=3.7.4.3 in /usr/local/lib/python3.11/dist-packages (from typer<0.13.0,>=0.12.5->flwr[simulation]) (4.13.2)\n",
            "Requirement already satisfied: shellingham>=1.3.0 in /usr/local/lib/python3.11/dist-packages (from typer<0.13.0,>=0.12.5->flwr[simulation]) (1.5.4)\n",
            "Requirement already satisfied: pycparser in /usr/local/lib/python3.11/dist-packages (from cffi>=1.12->cryptography<45.0.0,>=44.0.1->flwr[simulation]) (2.22)\n",
            "Requirement already satisfied: mdurl~=0.1 in /usr/local/lib/python3.11/dist-packages (from markdown-it-py>=2.2.0->rich<14.0.0,>=13.5.0->flwr[simulation]) (0.1.2)\n",
            "Requirement already satisfied: attrs>=22.2.0 in /usr/local/lib/python3.11/dist-packages (from jsonschema->ray==2.31.0->flwr[simulation]) (25.3.0)\n",
            "Requirement already satisfied: jsonschema-specifications>=2023.03.6 in /usr/local/lib/python3.11/dist-packages (from jsonschema->ray==2.31.0->flwr[simulation]) (2025.4.1)\n",
            "Requirement already satisfied: referencing>=0.28.4 in /usr/local/lib/python3.11/dist-packages (from jsonschema->ray==2.31.0->flwr[simulation]) (0.36.2)\n",
            "Requirement already satisfied: rpds-py>=0.7.1 in /usr/local/lib/python3.11/dist-packages (from jsonschema->ray==2.31.0->flwr[simulation]) (0.24.0)\n",
            "Downloading ray-2.31.0-cp311-cp311-manylinux2014_x86_64.whl (66.7 MB)\n",
            "\u001b[2K   \u001b[90m━━━━━━━━━━━━━━━━━━━━━━━━━━━━━━━━━━━━━━━━\u001b[0m \u001b[32m66.7/66.7 MB\u001b[0m \u001b[31m11.4 MB/s\u001b[0m eta \u001b[36m0:00:00\u001b[0m\n",
            "\u001b[?25hDownloading cryptography-44.0.3-cp39-abi3-manylinux_2_34_x86_64.whl (4.2 MB)\n",
            "\u001b[2K   \u001b[90m━━━━━━━━━━━━━━━━━━━━━━━━━━━━━━━━━━━━━━━━\u001b[0m \u001b[32m4.2/4.2 MB\u001b[0m \u001b[31m95.8 MB/s\u001b[0m eta \u001b[36m0:00:00\u001b[0m\n",
            "\u001b[?25hDownloading iterators-0.0.2-py3-none-any.whl (3.9 kB)\n",
            "Downloading pathspec-0.12.1-py3-none-any.whl (31 kB)\n",
            "Downloading protobuf-4.25.7-cp37-abi3-manylinux2014_x86_64.whl (294 kB)\n",
            "\u001b[2K   \u001b[90m━━━━━━━━━━━━━━━━━━━━━━━━━━━━━━━━━━━━━━━━\u001b[0m \u001b[32m294.6/294.6 kB\u001b[0m \u001b[31m19.8 MB/s\u001b[0m eta \u001b[36m0:00:00\u001b[0m\n",
            "\u001b[?25hDownloading pycryptodome-3.22.0-cp37-abi3-manylinux_2_17_x86_64.manylinux2014_x86_64.whl (2.3 MB)\n",
            "\u001b[2K   \u001b[90m━━━━━━━━━━━━━━━━━━━━━━━━━━━━━━━━━━━━━━━━\u001b[0m \u001b[32m2.3/2.3 MB\u001b[0m \u001b[31m83.3 MB/s\u001b[0m eta \u001b[36m0:00:00\u001b[0m\n",
            "\u001b[?25hDownloading tomli-2.2.1-cp311-cp311-manylinux_2_17_x86_64.manylinux2014_x86_64.whl (236 kB)\n",
            "\u001b[2K   \u001b[90m━━━━━━━━━━━━━━━━━━━━━━━━━━━━━━━━━━━━━━━━\u001b[0m \u001b[32m236.0/236.0 kB\u001b[0m \u001b[31m17.9 MB/s\u001b[0m eta \u001b[36m0:00:00\u001b[0m\n",
            "\u001b[?25hDownloading tomli_w-1.2.0-py3-none-any.whl (6.7 kB)\n",
            "Downloading typer-0.12.5-py3-none-any.whl (47 kB)\n",
            "\u001b[2K   \u001b[90m━━━━━━━━━━━━━━━━━━━━━━━━━━━━━━━━━━━━━━━━\u001b[0m \u001b[32m47.3/47.3 kB\u001b[0m \u001b[31m3.6 MB/s\u001b[0m eta \u001b[36m0:00:00\u001b[0m\n",
            "\u001b[?25hDownloading flwr-1.18.0-py3-none-any.whl (540 kB)\n",
            "\u001b[2K   \u001b[90m━━━━━━━━━━━━━━━━━━━━━━━━━━━━━━━━━━━━━━━━\u001b[0m \u001b[32m540.0/540.0 kB\u001b[0m \u001b[31m35.0 MB/s\u001b[0m eta \u001b[36m0:00:00\u001b[0m\n",
            "\u001b[?25hInstalling collected packages: tomli-w, tomli, pycryptodome, protobuf, pathspec, iterators, cryptography, typer, ray, flwr\n",
            "  Attempting uninstall: protobuf\n",
            "    Found existing installation: protobuf 5.29.4\n",
            "    Uninstalling protobuf-5.29.4:\n",
            "      Successfully uninstalled protobuf-5.29.4\n",
            "  Attempting uninstall: cryptography\n",
            "    Found existing installation: cryptography 43.0.3\n",
            "    Uninstalling cryptography-43.0.3:\n",
            "      Successfully uninstalled cryptography-43.0.3\n",
            "  Attempting uninstall: typer\n",
            "    Found existing installation: typer 0.15.3\n",
            "    Uninstalling typer-0.15.3:\n",
            "      Successfully uninstalled typer-0.15.3\n",
            "\u001b[31mERROR: pip's dependency resolver does not currently take into account all the packages that are installed. This behaviour is the source of the following dependency conflicts.\n",
            "grpcio-status 1.71.0 requires protobuf<6.0dev,>=5.26.1, but you have protobuf 4.25.7 which is incompatible.\n",
            "ydf 0.11.0 requires protobuf<6.0.0,>=5.29.1, but you have protobuf 4.25.7 which is incompatible.\n",
            "pydrive2 1.21.3 requires cryptography<44, but you have cryptography 44.0.3 which is incompatible.\n",
            "yfinance 0.2.59 requires protobuf<6,>=5.29.0, but you have protobuf 4.25.7 which is incompatible.\n",
            "pyopenssl 24.2.1 requires cryptography<44,>=41.0.5, but you have cryptography 44.0.3 which is incompatible.\u001b[0m\u001b[31m\n",
            "\u001b[0mSuccessfully installed cryptography-44.0.3 flwr-1.18.0 iterators-0.0.2 pathspec-0.12.1 protobuf-4.25.7 pycryptodome-3.22.0 ray-2.31.0 tomli-2.2.1 tomli-w-1.2.0 typer-0.12.5\n"
          ]
        }
      ]
    },
    {
      "cell_type": "code",
      "source": [
        "# ✅ Install required package\n",
        "!pip install split-folders\n",
        "\n",
        "import os\n",
        "import splitfolders\n",
        "\n",
        "# ✅ Define source and destination paths\n",
        "original_data_dir = \"/content/extracted_data/Brain_Stroke_CT-SCAN_image/Train\"  # Your original full dataset\n",
        "output_dir = \"/content/Brain_Stroke_CT-SCAN_image_Split\"         # Will contain Hospital_1, Hospital_2, Hospital_3\n",
        "\n",
        "# ✅ Create split folders (3 hospital splits)\n",
        "splitfolders.ratio(\n",
        "    original_data_dir,\n",
        "    output=output_dir,\n",
        "    seed=42,\n",
        "    ratio=(0.33, 0.33, 0.34),\n",
        "    group_prefix=None,\n",
        "    move=False  # Set to True if you want to move instead of copy\n",
        ")\n",
        "\n",
        "# ✅ Rename output folders to simulate hospitals\n",
        "os.rename(os.path.join(output_dir, \"train\"), os.path.join(output_dir, \"Hospital_1\"))\n",
        "os.rename(os.path.join(output_dir, \"val\"), os.path.join(output_dir, \"Hospital_2\"))\n",
        "os.rename(os.path.join(output_dir, \"test\"), os.path.join(output_dir, \"Hospital_3\"))\n",
        "\n",
        "print(\"✅ Dataset successfully split into 3 simulated hospitals!\")\n"
      ],
      "metadata": {
        "colab": {
          "base_uri": "https://localhost:8080/"
        },
        "id": "hS_kv030zhhJ",
        "outputId": "0061ff43-c081-4e17-d6de-50ebdf79d7f4"
      },
      "execution_count": 6,
      "outputs": [
        {
          "output_type": "stream",
          "name": "stdout",
          "text": [
            "Collecting split-folders\n",
            "  Downloading split_folders-0.5.1-py3-none-any.whl.metadata (6.2 kB)\n",
            "Downloading split_folders-0.5.1-py3-none-any.whl (8.4 kB)\n",
            "Installing collected packages: split-folders\n",
            "Successfully installed split-folders-0.5.1\n"
          ]
        },
        {
          "output_type": "stream",
          "name": "stderr",
          "text": [
            "Copying files: 1843 files [00:00, 6611.60 files/s]"
          ]
        },
        {
          "output_type": "stream",
          "name": "stdout",
          "text": [
            "✅ Dataset successfully split into 3 simulated hospitals!\n"
          ]
        },
        {
          "output_type": "stream",
          "name": "stderr",
          "text": [
            "\n"
          ]
        }
      ]
    },
    {
      "cell_type": "code",
      "source": [
        "import os\n",
        "import shutil\n",
        "import random\n",
        "from pathlib import Path\n",
        "\n",
        "# Base directory\n",
        "base_dir = 'Brain_Stroke_CT-SCAN_image_Split'\n",
        "\n",
        "# Define split ratio\n",
        "train_ratio = 0.8\n",
        "\n",
        "# Loop through each hospital\n",
        "for hospital in ['Hospital_1', 'Hospital_2', 'Hospital_3']:\n",
        "    hospital_path = os.path.join(base_dir, hospital)\n",
        "\n",
        "    for class_name in ['Normal', 'Stroke']:\n",
        "        class_path = os.path.join(hospital_path, class_name)\n",
        "        images = os.listdir(class_path)\n",
        "        random.shuffle(images)\n",
        "\n",
        "        split_idx = int(len(images) * train_ratio)\n",
        "        train_images = images[:split_idx]\n",
        "        test_images = images[split_idx:]\n",
        "\n",
        "        # Create destination folders\n",
        "        for split, split_images in zip(['Train', 'Test'], [train_images, test_images]):\n",
        "            dest_dir = os.path.join(hospital_path, split, class_name)\n",
        "            os.makedirs(dest_dir, exist_ok=True)\n",
        "\n",
        "            # Move images\n",
        "            for img in split_images:\n",
        "                src_path = os.path.join(class_path, img)\n",
        "                dst_path = os.path.join(dest_dir, img)\n",
        "                shutil.move(src_path, dst_path)\n",
        "\n",
        "        # Remove the original class folder if empty\n",
        "        if not os.listdir(class_path):\n",
        "            os.rmdir(class_path)\n",
        "\n",
        "print(\"✅ Dataset reorganized into Train/Test folders per hospital.\")\n"
      ],
      "metadata": {
        "colab": {
          "base_uri": "https://localhost:8080/"
        },
        "id": "bjUzFBZkFIFM",
        "outputId": "5461d04a-9bd5-4627-a667-b1a11ab0ae53"
      },
      "execution_count": 9,
      "outputs": [
        {
          "output_type": "stream",
          "name": "stdout",
          "text": [
            "✅ Dataset reorganized into Train/Test folders per hospital.\n"
          ]
        }
      ]
    },
    {
      "cell_type": "code",
      "source": [
        "pip uninstall tensorflow-gpu\n",
        "pip install tensorflow\n"
      ],
      "metadata": {
        "id": "ic6F_auTKbVH"
      },
      "execution_count": null,
      "outputs": []
    },
    {
      "cell_type": "code",
      "execution_count": 12,
      "metadata": {
        "colab": {
          "base_uri": "https://localhost:8080/"
        },
        "id": "Bsiufv2SvQwO",
        "outputId": "aa55fd4e-0dd5-44e1-e10b-48f2f2613bb3"
      },
      "outputs": [
        {
          "output_type": "stream",
          "name": "stderr",
          "text": [
            "2025-05-13 15:02:54,958\tINFO worker.py:1771 -- Started a local Ray instance.\n",
            "\u001b[93mWARNING \u001b[0m:   DEPRECATED FEATURE: flwr.simulation.start_simulation() is deprecated.\n",
            "\tInstead, use the `flwr run` CLI command to start a local simulation in your Flower app, as shown for example below:\n",
            "\n",
            "\t\t$ flwr new  # Create a new Flower app from a template\n",
            "\n",
            "\t\t$ flwr run  # Run the Flower app in Simulation Mode\n",
            "\n",
            "\tUsing `start_simulation()` is deprecated.\n",
            "\n",
            "            This is a deprecated feature. It will be removed\n",
            "            entirely in future versions of Flower.\n",
            "        \n",
            "\u001b[92mINFO \u001b[0m:      Starting Flower simulation, config: num_rounds=3, no round_timeout\n",
            "2025-05-13 15:03:02,769\tINFO worker.py:1771 -- Started a local Ray instance.\n",
            "\u001b[92mINFO \u001b[0m:      Flower VCE: Ray initialized with resources: {'CPU': 2.0, 'object_store_memory': 3962663731.0, 'node:172.28.0.12': 1.0, 'memory': 7925327463.0, 'node:__internal_head__': 1.0}\n",
            "\u001b[92mINFO \u001b[0m:      Optimize your simulation with Flower VCE: https://flower.ai/docs/framework/how-to-run-simulations.html\n",
            "\u001b[92mINFO \u001b[0m:      Flower VCE: Resources for each Virtual Client: {'num_cpus': 1}\n",
            "\u001b[92mINFO \u001b[0m:      Flower VCE: Creating VirtualClientEngineActorPool with 2 actors\n",
            "\u001b[92mINFO \u001b[0m:      [INIT]\n",
            "\u001b[92mINFO \u001b[0m:      Requesting initial parameters from one random client\n",
            "\u001b[36m(pid=13059)\u001b[0m 2025-05-13 15:03:06.428061: E external/local_xla/xla/stream_executor/cuda/cuda_fft.cc:477] Unable to register cuFFT factory: Attempting to register factory for plugin cuFFT when one has already been registered\n",
            "\u001b[36m(pid=13059)\u001b[0m WARNING: All log messages before absl::InitializeLog() is called are written to STDERR\n",
            "\u001b[36m(pid=13059)\u001b[0m E0000 00:00:1747148586.469753   13059 cuda_dnn.cc:8310] Unable to register cuDNN factory: Attempting to register factory for plugin cuDNN when one has already been registered\n",
            "\u001b[36m(pid=13059)\u001b[0m E0000 00:00:1747148586.481538   13059 cuda_blas.cc:1418] Unable to register cuBLAS factory: Attempting to register factory for plugin cuBLAS when one has already been registered\n",
            "\u001b[36m(ClientAppActor pid=13060)\u001b[0m \u001b[93mWARNING \u001b[0m:   DEPRECATED FEATURE: `client_fn` now expects a signature `def client_fn(context: Context)`.The provided `client_fn` has signature: {'cid': <Parameter \"cid: str\">}. You can import the `Context` like this: `from flwr.common import Context`\n",
            "\u001b[36m(ClientAppActor pid=13060)\u001b[0m \n",
            "\u001b[36m(ClientAppActor pid=13060)\u001b[0m             This is a deprecated feature. It will be removed\n",
            "\u001b[36m(ClientAppActor pid=13060)\u001b[0m             entirely in future versions of Flower.\n",
            "\u001b[36m(ClientAppActor pid=13060)\u001b[0m         \n",
            "\u001b[36m(ClientAppActor pid=13060)\u001b[0m 2025-05-13 15:03:14.276791: E external/local_xla/xla/stream_executor/cuda/cuda_driver.cc:152] failed call to cuInit: INTERNAL: CUDA error: Failed call to cuInit: UNKNOWN ERROR (303)\n",
            "\u001b[36m(pid=13060)\u001b[0m 2025-05-13 15:03:06.752118: E external/local_xla/xla/stream_executor/cuda/cuda_fft.cc:477] Unable to register cuFFT factory: Attempting to register factory for plugin cuFFT when one has already been registered\n",
            "\u001b[36m(pid=13060)\u001b[0m WARNING: All log messages before absl::InitializeLog() is called are written to STDERR\n",
            "\u001b[36m(pid=13060)\u001b[0m E0000 00:00:1747148586.806786   13060 cuda_dnn.cc:8310] Unable to register cuDNN factory: Attempting to register factory for plugin cuDNN when one has already been registered\n",
            "\u001b[36m(pid=13060)\u001b[0m E0000 00:00:1747148586.820298   13060 cuda_blas.cc:1418] Unable to register cuBLAS factory: Attempting to register factory for plugin cuBLAS when one has already been registered\n",
            "\u001b[36m(ClientAppActor pid=13060)\u001b[0m WARNING:tensorflow:AutoGraph could not transform <function load_dataset.<locals>.<lambda> at 0x7a9329f4d8a0> and will run it as-is.\n",
            "\u001b[36m(ClientAppActor pid=13060)\u001b[0m Cause: could not parse the source code of <function load_dataset.<locals>.<lambda> at 0x7a9329f4d8a0>: no matching AST found among candidates:\n",
            "\u001b[36m(ClientAppActor pid=13060)\u001b[0m \n",
            "\u001b[36m(ClientAppActor pid=13060)\u001b[0m To silence this warning, decorate the function with @tf.autograph.experimental.do_not_convert\n",
            "\u001b[36m(ClientAppActor pid=13060)\u001b[0m WARNING:tensorflow:AutoGraph could not transform <function load_dataset.<locals>.<lambda> at 0x7a9329f4dc60> and will run it as-is.\n",
            "\u001b[36m(ClientAppActor pid=13060)\u001b[0m Cause: could not parse the source code of <function load_dataset.<locals>.<lambda> at 0x7a9329f4dc60>: no matching AST found among candidates:\n",
            "\u001b[36m(ClientAppActor pid=13060)\u001b[0m \n",
            "\u001b[36m(ClientAppActor pid=13060)\u001b[0m To silence this warning, decorate the function with @tf.autograph.experimental.do_not_convert\n"
          ]
        },
        {
          "output_type": "stream",
          "name": "stdout",
          "text": [
            "\u001b[36m(ClientAppActor pid=13060)\u001b[0m Found 485 files belonging to 2 classes.\n",
            "\u001b[36m(ClientAppActor pid=13060)\u001b[0m Found 122 files belonging to 2 classes.\n"
          ]
        },
        {
          "output_type": "stream",
          "name": "stderr",
          "text": [
            "\u001b[36m(ClientAppActor pid=13060)\u001b[0m /usr/local/lib/python3.11/dist-packages/keras/src/layers/convolutional/base_conv.py:107: UserWarning: Do not pass an `input_shape`/`input_dim` argument to a layer. When using Sequential models, prefer using an `Input(shape)` object as the first layer in the model instead.\n",
            "\u001b[36m(ClientAppActor pid=13060)\u001b[0m   super().__init__(activity_regularizer=activity_regularizer, **kwargs)\n",
            "\u001b[36m(ClientAppActor pid=13060)\u001b[0m \u001b[93mWARNING \u001b[0m:   Deprecation Warning: The `client_fn` function must return an instance of `Client`, but an instance of `NumpyClient` was returned. Please use `NumPyClient.to_client()` method to convert it to `Client`.\n",
            "\u001b[92mINFO \u001b[0m:      Received initial parameters from one random client\n",
            "\u001b[92mINFO \u001b[0m:      Starting evaluation of initial global parameters\n",
            "\u001b[92mINFO \u001b[0m:      Evaluation returned no results (`None`)\n",
            "\u001b[92mINFO \u001b[0m:      \n",
            "\u001b[92mINFO \u001b[0m:      [ROUND 1]\n",
            "\u001b[92mINFO \u001b[0m:      configure_fit: strategy sampled 3 clients (out of 3)\n",
            "\u001b[36m(ClientAppActor pid=13060)\u001b[0m \u001b[93mWARNING \u001b[0m:   DEPRECATED FEATURE: `client_fn` now expects a signature `def client_fn(context: Context)`.The provided `client_fn` has signature: {'cid': <Parameter \"cid: str\">}. You can import the `Context` like this: `from flwr.common import Context`\n",
            "\u001b[36m(ClientAppActor pid=13060)\u001b[0m \n",
            "\u001b[36m(ClientAppActor pid=13060)\u001b[0m             This is a deprecated feature. It will be removed\n",
            "\u001b[36m(ClientAppActor pid=13060)\u001b[0m             entirely in future versions of Flower.\n",
            "\u001b[36m(ClientAppActor pid=13060)\u001b[0m         \n"
          ]
        },
        {
          "output_type": "stream",
          "name": "stdout",
          "text": [
            "\u001b[36m(ClientAppActor pid=13060)\u001b[0m Found 485 files belonging to 2 classes.\n",
            "\u001b[36m(ClientAppActor pid=13060)\u001b[0m Found 122 files belonging to 2 classes.\n"
          ]
        },
        {
          "output_type": "stream",
          "name": "stderr",
          "text": [
            "\u001b[36m(ClientAppActor pid=13059)\u001b[0m \n",
            "\u001b[36m(ClientAppActor pid=13059)\u001b[0m         \n",
            "\u001b[36m(ClientAppActor pid=13060)\u001b[0m WARNING:tensorflow:AutoGraph could not transform <function load_dataset.<locals>.<lambda> at 0x7a9329ecd800> and will run it as-is.\n",
            "\u001b[36m(ClientAppActor pid=13060)\u001b[0m Cause: could not parse the source code of <function load_dataset.<locals>.<lambda> at 0x7a9329ecd800>: no matching AST found among candidates:\n",
            "\u001b[36m(ClientAppActor pid=13060)\u001b[0m \n",
            "\u001b[36m(ClientAppActor pid=13060)\u001b[0m To silence this warning, decorate the function with @tf.autograph.experimental.do_not_convert\n",
            "\u001b[36m(ClientAppActor pid=13060)\u001b[0m WARNING:tensorflow:AutoGraph could not transform <function load_dataset.<locals>.<lambda> at 0x7a9329f4d1c0> and will run it as-is.\n",
            "\u001b[36m(ClientAppActor pid=13060)\u001b[0m Cause: could not parse the source code of <function load_dataset.<locals>.<lambda> at 0x7a9329f4d1c0>: no matching AST found among candidates:\n",
            "\u001b[36m(ClientAppActor pid=13060)\u001b[0m \n",
            "\u001b[36m(ClientAppActor pid=13060)\u001b[0m To silence this warning, decorate the function with @tf.autograph.experimental.do_not_convert\n",
            "\u001b[36m(ClientAppActor pid=13059)\u001b[0m \n",
            "\u001b[36m(ClientAppActor pid=13059)\u001b[0m \n",
            "\u001b[36m(ClientAppActor pid=13060)\u001b[0m \u001b[93mWARNING \u001b[0m:   Deprecation Warning: The `client_fn` function must return an instance of `Client`, but an instance of `NumpyClient` was returned. Please use `NumPyClient.to_client()` method to convert it to `Client`.\n",
            "\u001b[36m(ClientAppActor pid=13060)\u001b[0m \n",
            "\u001b[36m(ClientAppActor pid=13060)\u001b[0m         \n",
            "\u001b[36m(ClientAppActor pid=13060)\u001b[0m \u001b[93mWARNING \u001b[0m:   DEPRECATED FEATURE: `client_fn` now expects a signature `def client_fn(context: Context)`.The provided `client_fn` has signature: {'cid': <Parameter \"cid: str\">}. You can import the `Context` like this: `from flwr.common import Context`\u001b[32m [repeated 2x across cluster]\u001b[0m\n",
            "\u001b[36m(ClientAppActor pid=13060)\u001b[0m             This is a deprecated feature. It will be removed\u001b[32m [repeated 2x across cluster]\u001b[0m\n",
            "\u001b[36m(ClientAppActor pid=13060)\u001b[0m             entirely in future versions of Flower.\u001b[32m [repeated 2x across cluster]\u001b[0m\n",
            "\u001b[36m(ClientAppActor pid=13059)\u001b[0m 2025-05-13 15:03:16.102843: E external/local_xla/xla/stream_executor/cuda/cuda_driver.cc:152] failed call to cuInit: INTERNAL: CUDA error: Failed call to cuInit: UNKNOWN ERROR (303)\n",
            "\u001b[36m(ClientAppActor pid=13059)\u001b[0m WARNING:tensorflow:AutoGraph could not transform <function load_dataset.<locals>.<lambda> at 0x7d5aaf159c60> and will run it as-is.\u001b[32m [repeated 2x across cluster]\u001b[0m\n",
            "\u001b[36m(ClientAppActor pid=13059)\u001b[0m Cause: could not parse the source code of <function load_dataset.<locals>.<lambda> at 0x7d5aaf159c60>: no matching AST found among candidates:\u001b[32m [repeated 2x across cluster]\u001b[0m\n",
            "\u001b[36m(ClientAppActor pid=13059)\u001b[0m To silence this warning, decorate the function with @tf.autograph.experimental.do_not_convert\u001b[32m [repeated 2x across cluster]\u001b[0m\n",
            "\u001b[36m(ClientAppActor pid=13059)\u001b[0m /usr/local/lib/python3.11/dist-packages/keras/src/layers/convolutional/base_conv.py:107: UserWarning: Do not pass an `input_shape`/`input_dim` argument to a layer. When using Sequential models, prefer using an `Input(shape)` object as the first layer in the model instead.\n",
            "\u001b[36m(ClientAppActor pid=13059)\u001b[0m   super().__init__(activity_regularizer=activity_regularizer, **kwargs)\n",
            "\u001b[36m(ClientAppActor pid=13059)\u001b[0m \u001b[93mWARNING \u001b[0m:   Deprecation Warning: The `client_fn` function must return an instance of `Client`, but an instance of `NumpyClient` was returned. Please use `NumPyClient.to_client()` method to convert it to `Client`.\n",
            "\u001b[36m(ClientAppActor pid=13060)\u001b[0m \n"
          ]
        },
        {
          "output_type": "stream",
          "name": "stdout",
          "text": [
            "\u001b[36m(ClientAppActor pid=13060)\u001b[0m Found 485 files belonging to 2 classes.\u001b[32m [repeated 3x across cluster]\u001b[0m\n"
          ]
        },
        {
          "output_type": "stream",
          "name": "stderr",
          "text": [
            "\u001b[36m(ClientAppActor pid=13060)\u001b[0m \n",
            "\u001b[36m(ClientAppActor pid=13060)\u001b[0m \u001b[93mWARNING \u001b[0m:   Deprecation Warning: The `client_fn` function must return an instance of `Client`, but an instance of `NumpyClient` was returned. Please use `NumPyClient.to_client()` method to convert it to `Client`.\n",
            "\u001b[92mINFO \u001b[0m:      aggregate_fit: received 3 results and 0 failures\n",
            "\u001b[93mWARNING \u001b[0m:   No fit_metrics_aggregation_fn provided\n",
            "\u001b[92mINFO \u001b[0m:      configure_evaluate: strategy sampled 3 clients (out of 3)\n",
            "\u001b[36m(ClientAppActor pid=13060)\u001b[0m \n",
            "\u001b[36m(ClientAppActor pid=13060)\u001b[0m         \n",
            "\u001b[36m(ClientAppActor pid=13060)\u001b[0m \u001b[93mWARNING \u001b[0m:   DEPRECATED FEATURE: `client_fn` now expects a signature `def client_fn(context: Context)`.The provided `client_fn` has signature: {'cid': <Parameter \"cid: str\">}. You can import the `Context` like this: `from flwr.common import Context`\n",
            "\u001b[36m(ClientAppActor pid=13060)\u001b[0m             This is a deprecated feature. It will be removed\n",
            "\u001b[36m(ClientAppActor pid=13060)\u001b[0m             entirely in future versions of Flower.\n",
            "\u001b[36m(ClientAppActor pid=13060)\u001b[0m WARNING:tensorflow:AutoGraph could not transform <function load_dataset.<locals>.<lambda> at 0x7a9328e2d9e0> and will run it as-is.\u001b[32m [repeated 2x across cluster]\u001b[0m\n",
            "\u001b[36m(ClientAppActor pid=13060)\u001b[0m Cause: could not parse the source code of <function load_dataset.<locals>.<lambda> at 0x7a9328e2d9e0>: no matching AST found among candidates:\u001b[32m [repeated 2x across cluster]\u001b[0m\n",
            "\u001b[36m(ClientAppActor pid=13060)\u001b[0m To silence this warning, decorate the function with @tf.autograph.experimental.do_not_convert\u001b[32m [repeated 2x across cluster]\u001b[0m\n",
            "\u001b[36m(ClientAppActor pid=13059)\u001b[0m \u001b[93mWARNING \u001b[0m:   DEPRECATED FEATURE: `client_fn` now expects a signature `def client_fn(context: Context)`.The provided `client_fn` has signature: {'cid': <Parameter \"cid: str\">}. You can import the `Context` like this: `from flwr.common import Context`\n",
            "\u001b[36m(ClientAppActor pid=13059)\u001b[0m \n",
            "\u001b[36m(ClientAppActor pid=13059)\u001b[0m             This is a deprecated feature. It will be removed\n",
            "\u001b[36m(ClientAppActor pid=13059)\u001b[0m             entirely in future versions of Flower.\n",
            "\u001b[36m(ClientAppActor pid=13059)\u001b[0m         \n",
            "\u001b[36m(ClientAppActor pid=13060)\u001b[0m \n"
          ]
        },
        {
          "output_type": "stream",
          "name": "stdout",
          "text": [
            "\u001b[36m(ClientAppActor pid=13060)\u001b[0m Found 502 files belonging to 2 classes.\u001b[32m [repeated 2x across cluster]\u001b[0m\n"
          ]
        },
        {
          "output_type": "stream",
          "name": "stderr",
          "text": [
            "\u001b[36m(ClientAppActor pid=13059)\u001b[0m \n",
            "\u001b[36m(ClientAppActor pid=13060)\u001b[0m \n",
            "\u001b[36m(ClientAppActor pid=13059)\u001b[0m \n",
            "\u001b[36m(ClientAppActor pid=13059)\u001b[0m \u001b[93mWARNING \u001b[0m:   Deprecation Warning: The `client_fn` function must return an instance of `Client`, but an instance of `NumpyClient` was returned. Please use `NumPyClient.to_client()` method to convert it to `Client`.\n",
            "\u001b[36m(ClientAppActor pid=13059)\u001b[0m \u001b[93mWARNING \u001b[0m:   DEPRECATED FEATURE: `client_fn` now expects a signature `def client_fn(context: Context)`.The provided `client_fn` has signature: {'cid': <Parameter \"cid: str\">}. You can import the `Context` like this: `from flwr.common import Context`\n",
            "\u001b[36m(ClientAppActor pid=13059)\u001b[0m \n",
            "\u001b[36m(ClientAppActor pid=13059)\u001b[0m             This is a deprecated feature. It will be removed\n",
            "\u001b[36m(ClientAppActor pid=13059)\u001b[0m             entirely in future versions of Flower.\n",
            "\u001b[36m(ClientAppActor pid=13059)\u001b[0m         \n",
            "\u001b[36m(ClientAppActor pid=13059)\u001b[0m WARNING:tensorflow:AutoGraph could not transform <function load_dataset.<locals>.<lambda> at 0x7d5aaf1591c0> and will run it as-is.\u001b[32m [repeated 4x across cluster]\u001b[0m\n",
            "\u001b[36m(ClientAppActor pid=13059)\u001b[0m Cause: could not parse the source code of <function load_dataset.<locals>.<lambda> at 0x7d5aaf1591c0>: no matching AST found among candidates:\u001b[32m [repeated 4x across cluster]\u001b[0m\n",
            "\u001b[36m(ClientAppActor pid=13059)\u001b[0m To silence this warning, decorate the function with @tf.autograph.experimental.do_not_convert\u001b[32m [repeated 4x across cluster]\u001b[0m\n",
            "\u001b[36m(ClientAppActor pid=13060)\u001b[0m \u001b[93mWARNING \u001b[0m:   Deprecation Warning: The `client_fn` function must return an instance of `Client`, but an instance of `NumpyClient` was returned. Please use `NumPyClient.to_client()` method to convert it to `Client`.\n",
            "\u001b[36m(ClientAppActor pid=13059)\u001b[0m \n",
            "\u001b[36m(ClientAppActor pid=13059)\u001b[0m \n"
          ]
        },
        {
          "output_type": "stream",
          "name": "stdout",
          "text": [
            "\u001b[36m(ClientAppActor pid=13059)\u001b[0m Found 485 files belonging to 2 classes.\u001b[32m [repeated 4x across cluster]\u001b[0m\n"
          ]
        },
        {
          "output_type": "stream",
          "name": "stderr",
          "text": [
            "\u001b[36m(ClientAppActor pid=13059)\u001b[0m \u001b[93mWARNING \u001b[0m:   Deprecation Warning: The `client_fn` function must return an instance of `Client`, but an instance of `NumpyClient` was returned. Please use `NumPyClient.to_client()` method to convert it to `Client`.\n",
            "\u001b[92mINFO \u001b[0m:      aggregate_evaluate: received 3 results and 0 failures\n",
            "\u001b[93mWARNING \u001b[0m:   No evaluate_metrics_aggregation_fn provided\n",
            "\u001b[92mINFO \u001b[0m:      \n",
            "\u001b[92mINFO \u001b[0m:      [ROUND 2]\n",
            "\u001b[92mINFO \u001b[0m:      configure_fit: strategy sampled 3 clients (out of 3)\n",
            "\u001b[36m(ClientAppActor pid=13059)\u001b[0m \u001b[93mWARNING \u001b[0m:   DEPRECATED FEATURE: `client_fn` now expects a signature `def client_fn(context: Context)`.The provided `client_fn` has signature: {'cid': <Parameter \"cid: str\">}. You can import the `Context` like this: `from flwr.common import Context`\n",
            "\u001b[36m(ClientAppActor pid=13059)\u001b[0m \n",
            "\u001b[36m(ClientAppActor pid=13059)\u001b[0m             This is a deprecated feature. It will be removed\n",
            "\u001b[36m(ClientAppActor pid=13059)\u001b[0m             entirely in future versions of Flower.\n",
            "\u001b[36m(ClientAppActor pid=13059)\u001b[0m         \n",
            "\u001b[36m(ClientAppActor pid=13059)\u001b[0m \n",
            "\u001b[36m(ClientAppActor pid=13059)\u001b[0m \n",
            "\u001b[36m(ClientAppActor pid=13060)\u001b[0m \n",
            "\u001b[36m(ClientAppActor pid=13060)\u001b[0m         \n",
            "\u001b[36m(ClientAppActor pid=13060)\u001b[0m \n",
            "\u001b[36m(ClientAppActor pid=13060)\u001b[0m \n",
            "\u001b[36m(ClientAppActor pid=13059)\u001b[0m \u001b[93mWARNING \u001b[0m:   Deprecation Warning: The `client_fn` function must return an instance of `Client`, but an instance of `NumpyClient` was returned. Please use `NumPyClient.to_client()` method to convert it to `Client`.\n",
            "\u001b[36m(ClientAppActor pid=13059)\u001b[0m \n",
            "\u001b[36m(ClientAppActor pid=13059)\u001b[0m         \n",
            "\u001b[36m(ClientAppActor pid=13060)\u001b[0m WARNING:tensorflow:AutoGraph could not transform <function load_dataset.<locals>.<lambda> at 0x7a9328c44cc0> and will run it as-is.\u001b[32m [repeated 6x across cluster]\u001b[0m\n",
            "\u001b[36m(ClientAppActor pid=13060)\u001b[0m Cause: could not parse the source code of <function load_dataset.<locals>.<lambda> at 0x7a9328c44cc0>: no matching AST found among candidates:\u001b[32m [repeated 6x across cluster]\u001b[0m\n",
            "\u001b[36m(ClientAppActor pid=13060)\u001b[0m To silence this warning, decorate the function with @tf.autograph.experimental.do_not_convert\u001b[32m [repeated 6x across cluster]\u001b[0m\n",
            "\u001b[36m(ClientAppActor pid=13060)\u001b[0m \u001b[93mWARNING \u001b[0m:   Deprecation Warning: The `client_fn` function must return an instance of `Client`, but an instance of `NumpyClient` was returned. Please use `NumPyClient.to_client()` method to convert it to `Client`.\n",
            "\u001b[36m(ClientAppActor pid=13059)\u001b[0m \u001b[93mWARNING \u001b[0m:   DEPRECATED FEATURE: `client_fn` now expects a signature `def client_fn(context: Context)`.The provided `client_fn` has signature: {'cid': <Parameter \"cid: str\">}. You can import the `Context` like this: `from flwr.common import Context`\u001b[32m [repeated 2x across cluster]\u001b[0m\n",
            "\u001b[36m(ClientAppActor pid=13059)\u001b[0m             This is a deprecated feature. It will be removed\u001b[32m [repeated 2x across cluster]\u001b[0m\n",
            "\u001b[36m(ClientAppActor pid=13059)\u001b[0m             entirely in future versions of Flower.\u001b[32m [repeated 2x across cluster]\u001b[0m\n"
          ]
        },
        {
          "output_type": "stream",
          "name": "stdout",
          "text": [
            "\u001b[36m(ClientAppActor pid=13059)\u001b[0m Found 485 files belonging to 2 classes.\u001b[32m [repeated 6x across cluster]\u001b[0m\n"
          ]
        },
        {
          "output_type": "stream",
          "name": "stderr",
          "text": [
            "\u001b[36m(ClientAppActor pid=13059)\u001b[0m \n",
            "\u001b[36m(ClientAppActor pid=13059)\u001b[0m \n",
            "\u001b[36m(ClientAppActor pid=13059)\u001b[0m \u001b[93mWARNING \u001b[0m:   Deprecation Warning: The `client_fn` function must return an instance of `Client`, but an instance of `NumpyClient` was returned. Please use `NumPyClient.to_client()` method to convert it to `Client`.\n",
            "\u001b[92mINFO \u001b[0m:      aggregate_fit: received 3 results and 0 failures\n",
            "\u001b[92mINFO \u001b[0m:      configure_evaluate: strategy sampled 3 clients (out of 3)\n"
          ]
        },
        {
          "output_type": "stream",
          "name": "stdout",
          "text": [
            "\u001b[36m(ClientAppActor pid=13059)\u001b[0m Found 485 files belonging to 2 classes.\u001b[32m [repeated 2x across cluster]\u001b[0m\n"
          ]
        },
        {
          "output_type": "stream",
          "name": "stderr",
          "text": [
            "\u001b[36m(ClientAppActor pid=13059)\u001b[0m \n",
            "\u001b[36m(ClientAppActor pid=13059)\u001b[0m         \n",
            "\u001b[36m(ClientAppActor pid=13059)\u001b[0m WARNING:tensorflow:AutoGraph could not transform <function load_dataset.<locals>.<lambda> at 0x7d5aaa0d8180> and will run it as-is.\u001b[32m [repeated 2x across cluster]\u001b[0m\n",
            "\u001b[36m(ClientAppActor pid=13059)\u001b[0m Cause: could not parse the source code of <function load_dataset.<locals>.<lambda> at 0x7d5aaa0d8180>: no matching AST found among candidates:\u001b[32m [repeated 2x across cluster]\u001b[0m\n",
            "\u001b[36m(ClientAppActor pid=13059)\u001b[0m To silence this warning, decorate the function with @tf.autograph.experimental.do_not_convert\u001b[32m [repeated 2x across cluster]\u001b[0m\n",
            "\u001b[36m(ClientAppActor pid=13059)\u001b[0m \u001b[93mWARNING \u001b[0m:   DEPRECATED FEATURE: `client_fn` now expects a signature `def client_fn(context: Context)`.The provided `client_fn` has signature: {'cid': <Parameter \"cid: str\">}. You can import the `Context` like this: `from flwr.common import Context`\n",
            "\u001b[36m(ClientAppActor pid=13059)\u001b[0m             This is a deprecated feature. It will be removed\n",
            "\u001b[36m(ClientAppActor pid=13059)\u001b[0m             entirely in future versions of Flower.\n",
            "\u001b[36m(ClientAppActor pid=13059)\u001b[0m \n",
            "\u001b[36m(ClientAppActor pid=13060)\u001b[0m \u001b[93mWARNING \u001b[0m:   DEPRECATED FEATURE: `client_fn` now expects a signature `def client_fn(context: Context)`.The provided `client_fn` has signature: {'cid': <Parameter \"cid: str\">}. You can import the `Context` like this: `from flwr.common import Context`\n",
            "\u001b[36m(ClientAppActor pid=13060)\u001b[0m \n",
            "\u001b[36m(ClientAppActor pid=13060)\u001b[0m             This is a deprecated feature. It will be removed\n",
            "\u001b[36m(ClientAppActor pid=13060)\u001b[0m             entirely in future versions of Flower.\n",
            "\u001b[36m(ClientAppActor pid=13060)\u001b[0m         \n",
            "\u001b[36m(ClientAppActor pid=13059)\u001b[0m \n",
            "\u001b[36m(ClientAppActor pid=13060)\u001b[0m \n",
            "\u001b[36m(ClientAppActor pid=13060)\u001b[0m \n",
            "\u001b[36m(ClientAppActor pid=13059)\u001b[0m \u001b[93mWARNING \u001b[0m:   Deprecation Warning: The `client_fn` function must return an instance of `Client`, but an instance of `NumpyClient` was returned. Please use `NumPyClient.to_client()` method to convert it to `Client`.\n"
          ]
        },
        {
          "output_type": "stream",
          "name": "stdout",
          "text": [
            "\u001b[36m(ClientAppActor pid=13059)\u001b[0m Found 485 files belonging to 2 classes.\u001b[32m [repeated 4x across cluster]\u001b[0m\n"
          ]
        },
        {
          "output_type": "stream",
          "name": "stderr",
          "text": [
            "\u001b[36m(ClientAppActor pid=13059)\u001b[0m \n",
            "\u001b[36m(ClientAppActor pid=13059)\u001b[0m         \n",
            "\u001b[36m(ClientAppActor pid=13060)\u001b[0m WARNING:tensorflow:AutoGraph could not transform <function load_dataset.<locals>.<lambda> at 0x7a931980fa60> and will run it as-is.\u001b[32m [repeated 4x across cluster]\u001b[0m\n",
            "\u001b[36m(ClientAppActor pid=13060)\u001b[0m Cause: could not parse the source code of <function load_dataset.<locals>.<lambda> at 0x7a931980fa60>: no matching AST found among candidates:\u001b[32m [repeated 4x across cluster]\u001b[0m\n",
            "\u001b[36m(ClientAppActor pid=13060)\u001b[0m To silence this warning, decorate the function with @tf.autograph.experimental.do_not_convert\u001b[32m [repeated 4x across cluster]\u001b[0m\n",
            "\u001b[36m(ClientAppActor pid=13059)\u001b[0m \u001b[93mWARNING \u001b[0m:   DEPRECATED FEATURE: `client_fn` now expects a signature `def client_fn(context: Context)`.The provided `client_fn` has signature: {'cid': <Parameter \"cid: str\">}. You can import the `Context` like this: `from flwr.common import Context`\n",
            "\u001b[36m(ClientAppActor pid=13059)\u001b[0m             This is a deprecated feature. It will be removed\n",
            "\u001b[36m(ClientAppActor pid=13059)\u001b[0m             entirely in future versions of Flower.\n",
            "\u001b[36m(ClientAppActor pid=13060)\u001b[0m \u001b[93mWARNING \u001b[0m:   Deprecation Warning: The `client_fn` function must return an instance of `Client`, but an instance of `NumpyClient` was returned. Please use `NumPyClient.to_client()` method to convert it to `Client`.\n",
            "\u001b[36m(ClientAppActor pid=13059)\u001b[0m \n",
            "\u001b[36m(ClientAppActor pid=13059)\u001b[0m \n",
            "\u001b[36m(ClientAppActor pid=13059)\u001b[0m \u001b[93mWARNING \u001b[0m:   Deprecation Warning: The `client_fn` function must return an instance of `Client`, but an instance of `NumpyClient` was returned. Please use `NumPyClient.to_client()` method to convert it to `Client`.\n",
            "\u001b[92mINFO \u001b[0m:      aggregate_evaluate: received 3 results and 0 failures\n",
            "\u001b[92mINFO \u001b[0m:      \n",
            "\u001b[92mINFO \u001b[0m:      [ROUND 3]\n",
            "\u001b[92mINFO \u001b[0m:      configure_fit: strategy sampled 3 clients (out of 3)\n",
            "\u001b[36m(ClientAppActor pid=13059)\u001b[0m \u001b[93mWARNING \u001b[0m:   DEPRECATED FEATURE: `client_fn` now expects a signature `def client_fn(context: Context)`.The provided `client_fn` has signature: {'cid': <Parameter \"cid: str\">}. You can import the `Context` like this: `from flwr.common import Context`\n",
            "\u001b[36m(ClientAppActor pid=13059)\u001b[0m \n",
            "\u001b[36m(ClientAppActor pid=13059)\u001b[0m             This is a deprecated feature. It will be removed\n",
            "\u001b[36m(ClientAppActor pid=13059)\u001b[0m             entirely in future versions of Flower.\n",
            "\u001b[36m(ClientAppActor pid=13059)\u001b[0m         \n",
            "\u001b[36m(ClientAppActor pid=13059)\u001b[0m \n",
            "\u001b[36m(ClientAppActor pid=13059)\u001b[0m \n",
            "\u001b[36m(ClientAppActor pid=13060)\u001b[0m \n",
            "\u001b[36m(ClientAppActor pid=13060)\u001b[0m         \n",
            "\u001b[36m(ClientAppActor pid=13060)\u001b[0m \n",
            "\u001b[36m(ClientAppActor pid=13060)\u001b[0m \n",
            "\u001b[36m(ClientAppActor pid=13059)\u001b[0m \u001b[93mWARNING \u001b[0m:   Deprecation Warning: The `client_fn` function must return an instance of `Client`, but an instance of `NumpyClient` was returned. Please use `NumPyClient.to_client()` method to convert it to `Client`.\n",
            "\u001b[36m(ClientAppActor pid=13060)\u001b[0m \n",
            "\u001b[36m(ClientAppActor pid=13060)\u001b[0m         \n",
            "\u001b[36m(ClientAppActor pid=13060)\u001b[0m WARNING:tensorflow:AutoGraph could not transform <function load_dataset.<locals>.<lambda> at 0x7a93195765c0> and will run it as-is.\u001b[32m [repeated 6x across cluster]\u001b[0m\n",
            "\u001b[36m(ClientAppActor pid=13060)\u001b[0m Cause: could not parse the source code of <function load_dataset.<locals>.<lambda> at 0x7a93195765c0>: no matching AST found among candidates:\u001b[32m [repeated 6x across cluster]\u001b[0m\n",
            "\u001b[36m(ClientAppActor pid=13060)\u001b[0m To silence this warning, decorate the function with @tf.autograph.experimental.do_not_convert\u001b[32m [repeated 6x across cluster]\u001b[0m\n",
            "\u001b[36m(ClientAppActor pid=13060)\u001b[0m \u001b[93mWARNING \u001b[0m:   Deprecation Warning: The `client_fn` function must return an instance of `Client`, but an instance of `NumpyClient` was returned. Please use `NumPyClient.to_client()` method to convert it to `Client`.\n",
            "\u001b[36m(ClientAppActor pid=13060)\u001b[0m \u001b[93mWARNING \u001b[0m:   DEPRECATED FEATURE: `client_fn` now expects a signature `def client_fn(context: Context)`.The provided `client_fn` has signature: {'cid': <Parameter \"cid: str\">}. You can import the `Context` like this: `from flwr.common import Context`\u001b[32m [repeated 2x across cluster]\u001b[0m\n",
            "\u001b[36m(ClientAppActor pid=13060)\u001b[0m             This is a deprecated feature. It will be removed\u001b[32m [repeated 2x across cluster]\u001b[0m\n",
            "\u001b[36m(ClientAppActor pid=13060)\u001b[0m             entirely in future versions of Flower.\u001b[32m [repeated 2x across cluster]\u001b[0m\n"
          ]
        },
        {
          "output_type": "stream",
          "name": "stdout",
          "text": [
            "\u001b[36m(ClientAppActor pid=13060)\u001b[0m Found 485 files belonging to 2 classes.\u001b[32m [repeated 6x across cluster]\u001b[0m\n"
          ]
        },
        {
          "output_type": "stream",
          "name": "stderr",
          "text": [
            "\u001b[36m(ClientAppActor pid=13060)\u001b[0m \n",
            "\u001b[36m(ClientAppActor pid=13060)\u001b[0m \n",
            "\u001b[36m(ClientAppActor pid=13060)\u001b[0m \u001b[93mWARNING \u001b[0m:   Deprecation Warning: The `client_fn` function must return an instance of `Client`, but an instance of `NumpyClient` was returned. Please use `NumPyClient.to_client()` method to convert it to `Client`.\n",
            "\u001b[92mINFO \u001b[0m:      aggregate_fit: received 3 results and 0 failures\n",
            "\u001b[92mINFO \u001b[0m:      configure_evaluate: strategy sampled 3 clients (out of 3)\n",
            "\u001b[36m(ClientAppActor pid=13060)\u001b[0m \n",
            "\u001b[36m(ClientAppActor pid=13060)\u001b[0m         \n",
            "\u001b[36m(ClientAppActor pid=13060)\u001b[0m WARNING:tensorflow:AutoGraph could not transform <function load_dataset.<locals>.<lambda> at 0x7a9319576ca0> and will run it as-is.\u001b[32m [repeated 2x across cluster]\u001b[0m\n",
            "\u001b[36m(ClientAppActor pid=13060)\u001b[0m Cause: could not parse the source code of <function load_dataset.<locals>.<lambda> at 0x7a9319576ca0>: no matching AST found among candidates:\u001b[32m [repeated 2x across cluster]\u001b[0m\n",
            "\u001b[36m(ClientAppActor pid=13060)\u001b[0m To silence this warning, decorate the function with @tf.autograph.experimental.do_not_convert\u001b[32m [repeated 2x across cluster]\u001b[0m\n",
            "\u001b[36m(ClientAppActor pid=13060)\u001b[0m \u001b[93mWARNING \u001b[0m:   DEPRECATED FEATURE: `client_fn` now expects a signature `def client_fn(context: Context)`.The provided `client_fn` has signature: {'cid': <Parameter \"cid: str\">}. You can import the `Context` like this: `from flwr.common import Context`\n",
            "\u001b[36m(ClientAppActor pid=13060)\u001b[0m             This is a deprecated feature. It will be removed\n",
            "\u001b[36m(ClientAppActor pid=13060)\u001b[0m             entirely in future versions of Flower.\n",
            "\u001b[36m(ClientAppActor pid=13059)\u001b[0m \u001b[93mWARNING \u001b[0m:   DEPRECATED FEATURE: `client_fn` now expects a signature `def client_fn(context: Context)`.The provided `client_fn` has signature: {'cid': <Parameter \"cid: str\">}. You can import the `Context` like this: `from flwr.common import Context`\n",
            "\u001b[36m(ClientAppActor pid=13059)\u001b[0m \n",
            "\u001b[36m(ClientAppActor pid=13059)\u001b[0m             This is a deprecated feature. It will be removed\n",
            "\u001b[36m(ClientAppActor pid=13059)\u001b[0m             entirely in future versions of Flower.\n",
            "\u001b[36m(ClientAppActor pid=13059)\u001b[0m         \n",
            "\u001b[36m(ClientAppActor pid=13060)\u001b[0m \n",
            "\u001b[36m(ClientAppActor pid=13060)\u001b[0m \n"
          ]
        },
        {
          "output_type": "stream",
          "name": "stdout",
          "text": [
            "\u001b[36m(ClientAppActor pid=13060)\u001b[0m Found 485 files belonging to 2 classes.\u001b[32m [repeated 2x across cluster]\u001b[0m\n"
          ]
        },
        {
          "output_type": "stream",
          "name": "stderr",
          "text": [
            "\u001b[36m(ClientAppActor pid=13059)\u001b[0m \n",
            "\u001b[36m(ClientAppActor pid=13059)\u001b[0m \n",
            "\u001b[36m(ClientAppActor pid=13060)\u001b[0m \u001b[93mWARNING \u001b[0m:   Deprecation Warning: The `client_fn` function must return an instance of `Client`, but an instance of `NumpyClient` was returned. Please use `NumPyClient.to_client()` method to convert it to `Client`.\n"
          ]
        },
        {
          "output_type": "stream",
          "name": "stdout",
          "text": [
            "\u001b[36m(ClientAppActor pid=13059)\u001b[0m Found 122 files belonging to 2 classes.\u001b[32m [repeated 5x across cluster]\u001b[0m\n"
          ]
        },
        {
          "output_type": "stream",
          "name": "stderr",
          "text": [
            "\u001b[36m(ClientAppActor pid=13059)\u001b[0m \u001b[93mWARNING \u001b[0m:   DEPRECATED FEATURE: `client_fn` now expects a signature `def client_fn(context: Context)`.The provided `client_fn` has signature: {'cid': <Parameter \"cid: str\">}. You can import the `Context` like this: `from flwr.common import Context`\n",
            "\u001b[36m(ClientAppActor pid=13059)\u001b[0m \n",
            "\u001b[36m(ClientAppActor pid=13059)\u001b[0m             This is a deprecated feature. It will be removed\n",
            "\u001b[36m(ClientAppActor pid=13059)\u001b[0m             entirely in future versions of Flower.\n",
            "\u001b[36m(ClientAppActor pid=13059)\u001b[0m         \n",
            "\u001b[36m(ClientAppActor pid=13059)\u001b[0m \n",
            "\u001b[36m(ClientAppActor pid=13059)\u001b[0m \n",
            "\u001b[36m(ClientAppActor pid=13059)\u001b[0m WARNING:tensorflow:AutoGraph could not transform <function load_dataset.<locals>.<lambda> at 0x7d5aabad4cc0> and will run it as-is.\u001b[32m [repeated 6x across cluster]\u001b[0m\n",
            "\u001b[36m(ClientAppActor pid=13059)\u001b[0m Cause: could not parse the source code of <function load_dataset.<locals>.<lambda> at 0x7d5aabad4cc0>: no matching AST found among candidates:\u001b[32m [repeated 6x across cluster]\u001b[0m\n",
            "\u001b[36m(ClientAppActor pid=13059)\u001b[0m To silence this warning, decorate the function with @tf.autograph.experimental.do_not_convert\u001b[32m [repeated 6x across cluster]\u001b[0m\n",
            "\u001b[36m(ClientAppActor pid=13059)\u001b[0m \u001b[93mWARNING \u001b[0m:   Deprecation Warning: The `client_fn` function must return an instance of `Client`, but an instance of `NumpyClient` was returned. Please use `NumPyClient.to_client()` method to convert it to `Client`.\n",
            "\u001b[36m(ClientAppActor pid=13059)\u001b[0m \u001b[93mWARNING \u001b[0m:   Deprecation Warning: The `client_fn` function must return an instance of `Client`, but an instance of `NumpyClient` was returned. Please use `NumPyClient.to_client()` method to convert it to `Client`.\n",
            "\u001b[92mINFO \u001b[0m:      aggregate_evaluate: received 3 results and 0 failures\n",
            "\u001b[92mINFO \u001b[0m:      \n",
            "\u001b[92mINFO \u001b[0m:      [SUMMARY]\n",
            "\u001b[92mINFO \u001b[0m:      Run finished 3 round(s) in 458.00s\n",
            "\u001b[92mINFO \u001b[0m:      \tHistory (loss, distributed):\n",
            "\u001b[92mINFO \u001b[0m:      \t\tround 1: 0.6885450482368469\n",
            "\u001b[92mINFO \u001b[0m:      \t\tround 2: 0.5721060037612915\n",
            "\u001b[92mINFO \u001b[0m:      \t\tround 3: 0.46574365099271137\n",
            "\u001b[92mINFO \u001b[0m:      \n"
          ]
        }
      ],
      "source": [
        "# 📦 Imports\n",
        "import flwr as fl\n",
        "import tensorflow as tf\n",
        "import os\n",
        "from typing import Tuple\n",
        "import numpy as np\n",
        "from sklearn.metrics import accuracy_score\n",
        "\n",
        "# 📁 Dataset directories (ensure these are uploaded to /content/)\n",
        "base_dir = \"/content/Brain_Stroke_CT-SCAN_image_Split\"\n",
        "clients_dirs = [\n",
        "    os.path.join(base_dir, \"Hospital_1\"),\n",
        "    os.path.join(base_dir, \"Hospital_2\"),\n",
        "    os.path.join(base_dir, \"Hospital_3\"),\n",
        "]\n",
        "\n",
        "IMG_SIZE = (224, 224)\n",
        "BATCH_SIZE = 32\n",
        "\n",
        "def load_dataset(data_dir: str):\n",
        "    ds = tf.keras.preprocessing.image_dataset_from_directory(\n",
        "        data_dir,\n",
        "        image_size=IMG_SIZE,\n",
        "        batch_size=BATCH_SIZE,\n",
        "        label_mode=\"binary\",\n",
        "        shuffle=True,\n",
        "        seed=42\n",
        "    )\n",
        "    ds = ds.map(lambda x, y: (tf.cast(x, tf.float32) / 255.0, y))\n",
        "    return ds\n",
        "\n",
        "# 🧠 Model definition (CNN or use a pretrained one if needed)\n",
        "def build_model() -> tf.keras.Model:\n",
        "    model = tf.keras.Sequential([\n",
        "        tf.keras.layers.Conv2D(32, 3, activation='relu', input_shape=(224, 224, 3)),\n",
        "        tf.keras.layers.MaxPooling2D(),\n",
        "        tf.keras.layers.Conv2D(64, 3, activation='relu'),\n",
        "        tf.keras.layers.MaxPooling2D(),\n",
        "        tf.keras.layers.Flatten(),\n",
        "        tf.keras.layers.Dense(128, activation='relu'),\n",
        "        tf.keras.layers.Dense(1, activation='sigmoid'),\n",
        "    ])\n",
        "    model.compile(\n",
        "        optimizer='adam',\n",
        "        loss='binary_crossentropy',\n",
        "        metrics=['accuracy'],\n",
        "    )\n",
        "    return model\n",
        "\n",
        "# 🌍 Define Flower Client\n",
        "class CTClient(fl.client.NumPyClient):\n",
        "    def __init__(self, train_ds, test_ds):\n",
        "        self.model = build_model()\n",
        "        self.train = train_ds\n",
        "        self.test = test_ds\n",
        "\n",
        "    def get_parameters(self, config):\n",
        "        return self.model.get_weights()\n",
        "\n",
        "    def fit(self, parameters, config):\n",
        "        self.model.set_weights(parameters)\n",
        "        self.model.fit(self.train, epochs=1, verbose=0)\n",
        "        return self.model.get_weights(), len(self.train), {}\n",
        "\n",
        "    def evaluate(self, parameters, config):\n",
        "        self.model.set_weights(parameters)\n",
        "        loss, accuracy = self.model.evaluate(self.test, verbose=0)\n",
        "        return loss, len(self.test), {\"accuracy\": accuracy}\n",
        "\n",
        "# 🔁 Client function\n",
        "def client_fn(cid: str) -> fl.client.Client:\n",
        "    cid = int(cid)\n",
        "    client_dir = clients_dirs[cid]\n",
        "    train_ds = load_dataset(os.path.join(client_dir, \"Train\"))\n",
        "    test_ds = load_dataset(os.path.join(client_dir, \"Test\"))\n",
        "    return CTClient(train_ds, test_ds)\n",
        "\n",
        "# 🚀 Start federated simulation\n",
        "if __name__ == \"__main__\":\n",
        "    import ray\n",
        "    ray.shutdown()\n",
        "    ray.init(ignore_reinit_error=True)\n",
        "\n",
        "    fl.simulation.start_simulation(\n",
        "        client_fn=client_fn,\n",
        "        num_clients=3,\n",
        "        config=fl.server.ServerConfig(num_rounds=3),\n",
        "        client_resources={\"num_cpus\": 1}\n",
        "    )\n",
        "\n",
        "    ray.shutdown()\n"
      ]
    }
  ]
}